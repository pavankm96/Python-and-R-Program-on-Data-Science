{
 "cells": [
  {
   "cell_type": "code",
   "execution_count": 1,
   "metadata": {},
   "outputs": [],
   "source": [
    "import pandas as pd\n",
    "import numpy as np\n",
    "import matplotlib.pyplot as plt\n",
    "import seaborn as sns\n",
    "import statsmodels.api as sm\n",
    "from statsmodels.tsa.seasonal import seasonal_decompose\n",
    "from statsmodels.tsa.holtwinters import SimpleExpSmoothing # SES\n",
    "from statsmodels.tsa.holtwinters import Holt # Holts Exponential Smoothing\n",
    "from statsmodels.tsa.holtwinters import ExponentialSmoothing # \n",
    "import statsmodels.graphics.tsaplots as tsa_plots\n",
    "import statsmodels.tsa.statespace as tm_models\n",
    "from datetime import datetime,time"
   ]
  },
  {
   "cell_type": "code",
   "execution_count": 2,
   "metadata": {},
   "outputs": [
    {
     "data": {
      "text/html": [
       "<div>\n",
       "<style scoped>\n",
       "    .dataframe tbody tr th:only-of-type {\n",
       "        vertical-align: middle;\n",
       "    }\n",
       "\n",
       "    .dataframe tbody tr th {\n",
       "        vertical-align: top;\n",
       "    }\n",
       "\n",
       "    .dataframe thead th {\n",
       "        text-align: right;\n",
       "    }\n",
       "</style>\n",
       "<table border=\"1\" class=\"dataframe\">\n",
       "  <thead>\n",
       "    <tr style=\"text-align: right;\">\n",
       "      <th></th>\n",
       "      <th>Quarter</th>\n",
       "      <th>Sales</th>\n",
       "    </tr>\n",
       "  </thead>\n",
       "  <tbody>\n",
       "    <tr>\n",
       "      <th>0</th>\n",
       "      <td>Q1_86</td>\n",
       "      <td>1734.827000</td>\n",
       "    </tr>\n",
       "    <tr>\n",
       "      <th>1</th>\n",
       "      <td>Q2_86</td>\n",
       "      <td>2244.960999</td>\n",
       "    </tr>\n",
       "    <tr>\n",
       "      <th>2</th>\n",
       "      <td>Q3_86</td>\n",
       "      <td>2533.804993</td>\n",
       "    </tr>\n",
       "    <tr>\n",
       "      <th>3</th>\n",
       "      <td>Q4_86</td>\n",
       "      <td>2154.962997</td>\n",
       "    </tr>\n",
       "    <tr>\n",
       "      <th>4</th>\n",
       "      <td>Q1_87</td>\n",
       "      <td>1547.818996</td>\n",
       "    </tr>\n",
       "  </tbody>\n",
       "</table>\n",
       "</div>"
      ],
      "text/plain": [
       "  Quarter        Sales\n",
       "0   Q1_86  1734.827000\n",
       "1   Q2_86  2244.960999\n",
       "2   Q3_86  2533.804993\n",
       "3   Q4_86  2154.962997\n",
       "4   Q1_87  1547.818996"
      ]
     },
     "execution_count": 2,
     "metadata": {},
     "output_type": "execute_result"
    }
   ],
   "source": [
    "data=pd.read_excel(\"Datasets/CocaCola.xlsx\")\n",
    "data.head()"
   ]
  },
  {
   "cell_type": "code",
   "execution_count": 3,
   "metadata": {},
   "outputs": [
    {
     "data": {
      "text/plain": [
       "<AxesSubplot:xlabel='Quarter', ylabel='Sales'>"
      ]
     },
     "execution_count": 3,
     "metadata": {},
     "output_type": "execute_result"
    },
    {
     "data": {
      "image/png": "[encoded data removed]",
      "text/plain": [
       "<Figure size 432x288 with 1 Axes>"
      ]
     },
     "metadata": {
      "needs_background": "light"
     },
     "output_type": "display_data"
    }
   ],
   "source": [
    "sns.lineplot(x=\"Quarter\",y=\"Sales\",data=data)"
   ]
  },
  {
   "cell_type": "code",
   "execution_count": 4,
   "metadata": {},
   "outputs": [],
   "source": [
    "Train = data.head(133)\n",
    "Test = data.tail(12)"
   ]
  },
  {
   "cell_type": "code",
   "execution_count": 5,
   "metadata": {},
   "outputs": [],
   "source": [
    "def MAPE(pred,org):\n",
    "    temp = np.abs((pred-org))*100/org\n",
    "    return np.mean(temp)"
   ]
  },
  {
   "cell_type": "code",
   "execution_count": 6,
   "metadata": {},
   "outputs": [
    {
     "name": "stderr",
     "output_type": "stream",
     "text": [
      "C:\\Users\\Pavan K M\\anaconda3\\envs\\New Version\\lib\\site-packages\\statsmodels\\tsa\\holtwinters\\model.py:427: FutureWarning: After 0.13 initialization must be handled at model creation\n",
      "  warnings.warn(\n"
     ]
    },
    {
     "data": {
      "text/plain": [
       "9.681026212917576"
      ]
     },
     "execution_count": 6,
     "metadata": {},
     "output_type": "execute_result"
    }
   ],
   "source": [
    "# Simple Exponential Method\n",
    "ses_model = SimpleExpSmoothing(Train[\"Sales\"]).fit()\n",
    "pred_ses = ses_model.predict(start = Test.index[0],end = Test.index[-1])\n",
    "MAPE(pred_ses,Test.Sales) # 9.681026212917576"
   ]
  },
  {
   "cell_type": "code",
   "execution_count": 7,
   "metadata": {},
   "outputs": [
    {
     "data": {
      "text/plain": [
       "11.025174865752454"
      ]
     },
     "execution_count": 7,
     "metadata": {},
     "output_type": "execute_result"
    }
   ],
   "source": [
    "# Holt method \n",
    "hw_model = Holt(Train[\"Sales\"]).fit()\n",
    "pred_hw = hw_model.predict(start = Test.index[0],end = Test.index[-1])\n",
    "MAPE(pred_hw,Test.Sales) # 11.025174865752454"
   ]
  },
  {
   "cell_type": "code",
   "execution_count": 8,
   "metadata": {},
   "outputs": [
    {
     "data": {
      "text/plain": [
       "5.054127892934732"
      ]
     },
     "execution_count": 8,
     "metadata": {},
     "output_type": "execute_result"
    }
   ],
   "source": [
    "# Holts winter exponential smoothing with additive seasonality and additive trend\n",
    "hwe_model_add_add = ExponentialSmoothing(Train[\"Sales\"],seasonal=\"add\",trend=\"add\",seasonal_periods=12).fit()\n",
    "pred_hwe_add_add = hwe_model_add_add.predict(start = Test.index[0],end = Test.index[-1])\n",
    "MAPE(pred_hwe_add_add,Test.Sales) # 5.054127892934732"
   ]
  },
  {
   "cell_type": "code",
   "execution_count": 9,
   "metadata": {},
   "outputs": [
    {
     "data": {
      "text/plain": [
       "2.13995671078303"
      ]
     },
     "execution_count": 9,
     "metadata": {},
     "output_type": "execute_result"
    }
   ],
   "source": [
    "# Holts winter exponential smoothing with multiplicative seasonality and additive trend\n",
    "hwe_model_mul_add = ExponentialSmoothing(Train[\"Sales\"],seasonal=\"mul\",trend=\"add\",seasonal_periods=12).fit()\n",
    "pred_hwe_mul_add = hwe_model_mul_add.predict(start = Test.index[0],end = Test.index[-1])\n",
    "MAPE(pred_hwe_mul_add,Test.Sales) # 2.13995671078303"
   ]
  },
  {
   "cell_type": "code",
   "execution_count": 10,
   "metadata": {},
   "outputs": [
    {
     "name": "stdout",
     "output_type": "stream",
     "text": [
      " ARIMA(0,1,0)(0,1,0)[12]             : AIC=402.446, Time=0.03 sec\n",
      " ARIMA(0,1,0)(0,1,1)[12]             : AIC=404.444, Time=0.08 sec\n",
      " ARIMA(0,1,0)(0,1,2)[12]             : AIC=406.376, Time=0.18 sec\n",
      " ARIMA(0,1,0)(1,1,0)[12]             : AIC=404.444, Time=0.18 sec\n",
      " ARIMA(0,1,0)(1,1,1)[12]             : AIC=inf, Time=0.26 sec\n",
      " ARIMA(0,1,0)(1,1,2)[12]             : AIC=inf, Time=0.32 sec\n",
      " ARIMA(0,1,0)(2,1,0)[12]             : AIC=406.375, Time=0.26 sec\n",
      " ARIMA(0,1,0)(2,1,1)[12]             : AIC=inf, Time=0.35 sec\n",
      " ARIMA(0,1,0)(2,1,2)[12]             : AIC=inf, Time=0.76 sec\n",
      " ARIMA(0,1,1)(0,1,0)[12]             : AIC=404.443, Time=0.03 sec\n",
      " ARIMA(0,1,1)(0,1,1)[12]             : AIC=406.440, Time=0.13 sec\n",
      " ARIMA(0,1,1)(0,1,2)[12]             : AIC=408.375, Time=0.31 sec\n",
      " ARIMA(0,1,1)(1,1,0)[12]             : AIC=406.441, Time=0.10 sec\n",
      " ARIMA(0,1,1)(1,1,1)[12]             : AIC=inf, Time=0.19 sec\n",
      " ARIMA(0,1,1)(1,1,2)[12]             : AIC=inf, Time=0.58 sec\n",
      " ARIMA(0,1,1)(2,1,0)[12]             : AIC=408.374, Time=0.22 sec\n",
      " ARIMA(0,1,1)(2,1,1)[12]             : AIC=inf, Time=0.44 sec\n",
      " ARIMA(0,1,1)(2,1,2)[12]             : AIC=inf, Time=0.59 sec\n",
      " ARIMA(0,1,2)(0,1,0)[12]             : AIC=403.032, Time=0.07 sec\n",
      " ARIMA(0,1,2)(0,1,1)[12]             : AIC=404.742, Time=0.25 sec\n",
      " ARIMA(0,1,2)(0,1,2)[12]             : AIC=406.742, Time=0.60 sec\n",
      " ARIMA(0,1,2)(1,1,0)[12]             : AIC=404.745, Time=0.20 sec\n",
      " ARIMA(0,1,2)(1,1,1)[12]             : AIC=inf, Time=0.50 sec\n",
      " ARIMA(0,1,2)(1,1,2)[12]             : AIC=inf, Time=0.81 sec\n",
      " ARIMA(0,1,2)(2,1,0)[12]             : AIC=406.740, Time=0.44 sec\n",
      " ARIMA(0,1,2)(2,1,1)[12]             : AIC=inf, Time=0.59 sec\n",
      " ARIMA(0,1,3)(0,1,0)[12]             : AIC=404.505, Time=0.12 sec\n",
      " ARIMA(0,1,3)(0,1,1)[12]             : AIC=406.330, Time=0.32 sec\n",
      " ARIMA(0,1,3)(0,1,2)[12]             : AIC=408.313, Time=0.66 sec\n",
      " ARIMA(0,1,3)(1,1,0)[12]             : AIC=406.324, Time=0.29 sec\n",
      " ARIMA(0,1,3)(1,1,1)[12]             : AIC=408.322, Time=0.53 sec\n",
      " ARIMA(0,1,3)(2,1,0)[12]             : AIC=408.320, Time=0.69 sec\n",
      " ARIMA(0,1,4)(0,1,0)[12]             : AIC=401.702, Time=0.30 sec\n",
      " ARIMA(0,1,4)(0,1,1)[12]             : AIC=inf, Time=0.85 sec\n",
      " ARIMA(0,1,4)(1,1,0)[12]             : AIC=inf, Time=0.59 sec\n",
      " ARIMA(0,1,5)(0,1,0)[12]             : AIC=403.700, Time=0.30 sec\n",
      " ARIMA(1,1,0)(0,1,0)[12]             : AIC=404.445, Time=0.05 sec\n",
      " ARIMA(1,1,0)(0,1,1)[12]             : AIC=406.443, Time=0.15 sec\n",
      " ARIMA(1,1,0)(0,1,2)[12]             : AIC=408.376, Time=0.29 sec\n",
      " ARIMA(1,1,0)(1,1,0)[12]             : AIC=406.443, Time=0.12 sec\n",
      " ARIMA(1,1,0)(1,1,1)[12]             : AIC=inf, Time=0.40 sec\n",
      " ARIMA(1,1,0)(1,1,2)[12]             : AIC=inf, Time=0.68 sec\n",
      " ARIMA(1,1,0)(2,1,0)[12]             : AIC=408.374, Time=0.38 sec\n",
      " ARIMA(1,1,0)(2,1,1)[12]             : AIC=inf, Time=0.87 sec\n",
      " ARIMA(1,1,0)(2,1,2)[12]             : AIC=inf, Time=1.52 sec\n",
      " ARIMA(1,1,1)(0,1,0)[12]             : AIC=405.084, Time=0.08 sec\n",
      " ARIMA(1,1,1)(0,1,1)[12]             : AIC=407.084, Time=0.27 sec\n",
      " ARIMA(1,1,1)(0,1,2)[12]             : AIC=409.043, Time=0.41 sec\n",
      " ARIMA(1,1,1)(1,1,0)[12]             : AIC=407.084, Time=0.25 sec\n",
      " ARIMA(1,1,1)(1,1,1)[12]             : AIC=inf, Time=0.59 sec\n",
      " ARIMA(1,1,1)(1,1,2)[12]             : AIC=inf, Time=0.65 sec\n",
      " ARIMA(1,1,1)(2,1,0)[12]             : AIC=409.042, Time=0.48 sec\n",
      " ARIMA(1,1,1)(2,1,1)[12]             : AIC=inf, Time=0.78 sec\n",
      " ARIMA(1,1,2)(0,1,0)[12]             : AIC=404.941, Time=0.09 sec\n",
      " ARIMA(1,1,2)(0,1,1)[12]             : AIC=406.694, Time=0.24 sec\n",
      " ARIMA(1,1,2)(0,1,2)[12]             : AIC=408.693, Time=0.60 sec\n",
      " ARIMA(1,1,2)(1,1,0)[12]             : AIC=406.696, Time=0.25 sec\n",
      " ARIMA(1,1,2)(1,1,1)[12]             : AIC=inf, Time=0.32 sec\n",
      " ARIMA(1,1,2)(2,1,0)[12]             : AIC=408.692, Time=0.63 sec\n",
      " ARIMA(1,1,3)(0,1,0)[12]             : AIC=inf, Time=0.28 sec\n",
      " ARIMA(1,1,3)(0,1,1)[12]             : AIC=inf, Time=0.72 sec\n",
      " ARIMA(1,1,3)(1,1,0)[12]             : AIC=inf, Time=0.68 sec\n",
      " ARIMA(1,1,4)(0,1,0)[12]             : AIC=403.554, Time=0.51 sec\n",
      " ARIMA(2,1,0)(0,1,0)[12]             : AIC=401.684, Time=0.06 sec\n",
      " ARIMA(2,1,0)(0,1,1)[12]             : AIC=401.958, Time=0.24 sec\n",
      " ARIMA(2,1,0)(0,1,2)[12]             : AIC=403.350, Time=0.54 sec\n",
      " ARIMA(2,1,0)(1,1,0)[12]             : AIC=401.610, Time=0.24 sec\n",
      " ARIMA(2,1,0)(1,1,1)[12]             : AIC=403.580, Time=0.46 sec\n",
      " ARIMA(2,1,0)(1,1,2)[12]             : AIC=inf, Time=1.32 sec\n",
      " ARIMA(2,1,0)(2,1,0)[12]             : AIC=403.570, Time=0.51 sec\n",
      " ARIMA(2,1,0)(2,1,1)[12]             : AIC=inf, Time=1.62 sec\n",
      " ARIMA(2,1,1)(0,1,0)[12]             : AIC=403.418, Time=0.10 sec\n",
      " ARIMA(2,1,1)(0,1,1)[12]             : AIC=403.927, Time=0.31 sec\n",
      " ARIMA(2,1,1)(0,1,2)[12]             : AIC=405.368, Time=0.35 sec\n",
      " ARIMA(2,1,1)(1,1,0)[12]             : AIC=403.606, Time=0.29 sec\n",
      " ARIMA(2,1,1)(1,1,1)[12]             : AIC=405.576, Time=0.39 sec\n",
      " ARIMA(2,1,1)(2,1,0)[12]             : AIC=405.566, Time=0.51 sec\n",
      " ARIMA(2,1,2)(0,1,0)[12]             : AIC=404.490, Time=0.15 sec\n",
      " ARIMA(2,1,2)(0,1,1)[12]             : AIC=402.288, Time=0.43 sec\n",
      " ARIMA(2,1,2)(1,1,0)[12]             : AIC=402.006, Time=0.50 sec\n",
      " ARIMA(2,1,3)(0,1,0)[12]             : AIC=inf, Time=0.34 sec\n",
      " ARIMA(3,1,0)(0,1,0)[12]             : AIC=403.121, Time=0.07 sec\n",
      " ARIMA(3,1,0)(0,1,1)[12]             : AIC=403.878, Time=0.07 sec\n",
      " ARIMA(3,1,0)(0,1,2)[12]             : AIC=405.342, Time=0.65 sec\n",
      " ARIMA(3,1,0)(1,1,0)[12]             : AIC=403.598, Time=0.32 sec\n",
      " ARIMA(3,1,0)(1,1,1)[12]             : AIC=405.568, Time=0.42 sec\n",
      " ARIMA(3,1,0)(2,1,0)[12]             : AIC=405.557, Time=1.00 sec\n",
      " ARIMA(3,1,1)(0,1,0)[12]             : AIC=404.312, Time=0.26 sec\n",
      " ARIMA(3,1,1)(0,1,1)[12]             : AIC=404.927, Time=0.56 sec\n",
      " ARIMA(3,1,1)(1,1,0)[12]             : AIC=404.698, Time=0.40 sec\n",
      " ARIMA(3,1,2)(0,1,0)[12]             : AIC=inf, Time=0.20 sec\n",
      " ARIMA(4,1,0)(0,1,0)[12]             : AIC=403.694, Time=0.21 sec\n",
      " ARIMA(4,1,0)(0,1,1)[12]             : AIC=inf, Time=0.52 sec\n",
      " ARIMA(4,1,0)(1,1,0)[12]             : AIC=400.949, Time=0.38 sec\n",
      " ARIMA(4,1,1)(0,1,0)[12]             : AIC=405.519, Time=0.25 sec\n",
      " ARIMA(5,1,0)(0,1,0)[12]             : AIC=405.411, Time=0.17 sec\n",
      "\n",
      "Best model:  ARIMA(4,1,0)(1,1,0)[12]          \n",
      "Total fit time: 39.362 seconds\n"
     ]
    }
   ],
   "source": [
    "# Lets us use auto_arima from p\n",
    "from pmdarima import auto_arima\n",
    "auto_arima_model = auto_arima(Train[\"Sales\"],start_p=0,\n",
    "                              start_q=0,max_p=10,max_q=10,\n",
    "                              m=12,start_P=0,seasonal=True,\n",
    "                              d=1,D=1,trace=True,error_action=\"ignore\",\n",
    "                              suppress_warnings= True,\n",
    "                              stepwise=False)"
   ]
  },
  {
   "cell_type": "code",
   "execution_count": 11,
   "metadata": {},
   "outputs": [
    {
     "data": {
      "text/plain": [
       "array([   0.        , 1739.98595679, 2217.49037422, 2513.52520498,\n",
       "       2169.84550741, 1580.5337708 , 2128.33982713, 1972.35445733,\n",
       "       1964.15441576, 1895.59302528, 2340.1544899 , 2099.81445574,\n",
       "       2881.93543698, 2415.24468896, 2676.35055783, 1820.5071752 ,\n",
       "       1793.5375441 , 2621.63892214, 2313.19650626, 2885.03992166,\n",
       "       2561.86249311, 3050.14295558, 2979.28851529, 2897.79573345,\n",
       "       2587.62335616, 3318.43808774, 3713.61058257, 3066.64069549,\n",
       "       3004.73668055, 3788.35887644, 3736.04941843, 3388.05587759,\n",
       "       3436.5091691 , 4028.79641539, 4196.49358252, 4046.35831255,\n",
       "       3843.60028809, 4736.67407754, 5006.51715003, 4452.77769685,\n",
       "       4157.71762699, 5284.5413161 ])"
      ]
     },
     "execution_count": 11,
     "metadata": {},
     "output_type": "execute_result"
    }
   ],
   "source": [
    "auto_arima_model.predict_in_sample( )"
   ]
  },
  {
   "cell_type": "code",
   "execution_count": 12,
   "metadata": {},
   "outputs": [
    {
     "data": {
      "text/plain": [
       "29.787336698097334"
      ]
     },
     "execution_count": 12,
     "metadata": {},
     "output_type": "execute_result"
    }
   ],
   "source": [
    "pred_test_auto_arima = pd.Series(auto_arima_model.predict(n_periods=12))\n",
    "pred_test_auto_arima.index = Test.index\n",
    "MAPE(pred_test_auto_arima,Test.Sales) "
   ]
  },
  {
   "cell_type": "code",
   "execution_count": 13,
   "metadata": {},
   "outputs": [
    {
     "data": {
      "text/plain": [
       "[<matplotlib.lines.Line2D at 0x2676dccc7f0>]"
      ]
     },
     "execution_count": 13,
     "metadata": {},
     "output_type": "execute_result"
    },
    {
     "data": {
      "image/png": "[encoded data removed]",
      "text/plain": [
       "<Figure size 432x288 with 1 Axes>"
      ]
     },
     "metadata": {
      "needs_background": "light"
     },
     "output_type": "display_data"
    }
   ],
   "source": [
    "plt.plot(Train.index, Train[\"Sales\"], label='Train',color=\"black\")"
   ]
  },
  {
   "cell_type": "code",
   "execution_count": 14,
   "metadata": {},
   "outputs": [
    {
     "data": {
      "text/plain": [
       "[<matplotlib.lines.Line2D at 0x26761a20e80>]"
      ]
     },
     "execution_count": 14,
     "metadata": {},
     "output_type": "execute_result"
    },
    {
     "data": {
      "image/png": "[encoded data removed]",
      "text/plain": [
       "<Figure size 432x288 with 1 Axes>"
      ]
     },
     "metadata": {
      "needs_background": "light"
     },
     "output_type": "display_data"
    }
   ],
   "source": [
    "plt.plot(Test.index, Test[\"Sales\"], label='Test',color=\"Blue\")"
   ]
  },
  {
   "cell_type": "code",
   "execution_count": 15,
   "metadata": {},
   "outputs": [
    {
     "data": {
      "text/plain": [
       "[<matplotlib.lines.Line2D at 0x267548ad9d0>]"
      ]
     },
     "execution_count": 15,
     "metadata": {},
     "output_type": "execute_result"
    },
    {
     "data": {
      "image/png": "[encoded data removed]",
      "text/plain": [
       "<Figure size 432x288 with 1 Axes>"
      ]
     },
     "metadata": {
      "needs_background": "light"
     },
     "output_type": "display_data"
    }
   ],
   "source": [
    "plt.plot(pred_ses.index, pred_ses, label='SimpleExponential',color=\"green\")"
   ]
  },
  {
   "cell_type": "code",
   "execution_count": 16,
   "metadata": {},
   "outputs": [
    {
     "data": {
      "text/plain": [
       "[<matplotlib.lines.Line2D at 0x26770cfeca0>]"
      ]
     },
     "execution_count": 16,
     "metadata": {},
     "output_type": "execute_result"
    },
    {
     "data": {
      "image/png": "[encoded data removed]",
      "text/plain": [
       "<Figure size 432x288 with 1 Axes>"
      ]
     },
     "metadata": {
      "needs_background": "light"
     },
     "output_type": "display_data"
    }
   ],
   "source": [
    "plt.plot(pred_hw.index, pred_hw, label='Holts_winter',color=\"red\")"
   ]
  },
  {
   "cell_type": "code",
   "execution_count": 17,
   "metadata": {},
   "outputs": [
    {
     "data": {
      "text/plain": [
       "[<matplotlib.lines.Line2D at 0x2676bc53e80>]"
      ]
     },
     "execution_count": 17,
     "metadata": {},
     "output_type": "execute_result"
    },
    {
     "data": {
      "image/png": "[encoded data removed]",
      "text/plain": [
       "<Figure size 432x288 with 1 Axes>"
      ]
     },
     "metadata": {
      "needs_background": "light"
     },
     "output_type": "display_data"
    }
   ],
   "source": [
    "plt.plot(pred_hwe_add_add.index,pred_hwe_add_add,label=\"HoltsWinterExponential_1\",color=\"brown\")"
   ]
  },
  {
   "cell_type": "code",
   "execution_count": 18,
   "metadata": {},
   "outputs": [
    {
     "data": {
      "text/plain": [
       "[<matplotlib.lines.Line2D at 0x267548fc520>]"
      ]
     },
     "execution_count": 18,
     "metadata": {},
     "output_type": "execute_result"
    },
    {
     "data": {
      "image/png": "[encoded data removed]",
      "text/plain": [
       "<Figure size 432x288 with 1 Axes>"
      ]
     },
     "metadata": {
      "needs_background": "light"
     },
     "output_type": "display_data"
    }
   ],
   "source": [
    "plt.plot(pred_hwe_mul_add.index,pred_hwe_mul_add,label=\"HoltsWinterExponential_2\",color=\"yellow\")"
   ]
  },
  {
   "cell_type": "code",
   "execution_count": 19,
   "metadata": {},
   "outputs": [
    {
     "data": {
      "text/plain": [
       "[<matplotlib.lines.Line2D at 0x2675893a310>]"
      ]
     },
     "execution_count": 19,
     "metadata": {},
     "output_type": "execute_result"
    },
    {
     "data": {
      "image/png": "[encoded data removed]",
      "text/plain": [
       "<Figure size 432x288 with 1 Axes>"
      ]
     },
     "metadata": {
      "needs_background": "light"
     },
     "output_type": "display_data"
    }
   ],
   "source": [
    "plt.plot(pred_hwe_mul_add.index,pred_hwe_mul_add,label=\"Auto_Arima\",color=\"grey\")"
   ]
  },
  {
   "cell_type": "code",
   "execution_count": 20,
   "metadata": {},
   "outputs": [
    {
     "data": {
      "text/plain": [
       "<matplotlib.legend.Legend at 0x26760a13f70>"
      ]
     },
     "execution_count": 20,
     "metadata": {},
     "output_type": "execute_result"
    },
    {
     "data": {
      "image/png": "[encoded data removed]",
      "text/plain": [
       "<Figure size 432x288 with 1 Axes>"
      ]
     },
     "metadata": {
      "needs_background": "light"
     },
     "output_type": "display_data"
    }
   ],
   "source": [
    "plt.plot(Train.index, Train[\"Sales\"], label='Train',color=\"black\")\n",
    "plt.plot(Test.index, Test[\"Sales\"], label='Test',color=\"blue\")\n",
    "plt.plot(pred_ses.index, pred_ses, label='SimpleExponential',color=\"green\")\n",
    "plt.plot(pred_hw.index, pred_hw, label='Holts_winter',color=\"red\")\n",
    "plt.plot(pred_hwe_add_add.index,pred_hwe_add_add,label=\"HoltsWinterExponential_1\",color=\"brown\")\n",
    "plt.plot(pred_hwe_mul_add.index,pred_hwe_mul_add,label=\"HoltsWinterExponential_2\",color=\"yellow\")\n",
    "plt.plot(pred_hwe_mul_add.index,pred_hwe_mul_add,label=\"Auto_Arima\",color=\"grey\")\n",
    "plt.legend(loc='best')"
   ]
  },
  {
   "cell_type": "code",
   "execution_count": 21,
   "metadata": {},
   "outputs": [],
   "source": [
    "model_mapes = pd.DataFrame(columns=[\"model_name\",\"mape\"])\n",
    "model_mapes[\"model_name\"] = ['SimpleExponential','Holts_winter',\"HoltsWinterExponential_1\",\"HoltsWinterExponential_2\",'Auto_Arima']\n",
    "model_mapes['mape']=[9.681026212917576,11.025174865752454,5.054127892934732,2.13995671078303,29.787336698097334]"
   ]
  },
  {
   "cell_type": "code",
   "execution_count": 22,
   "metadata": {},
   "outputs": [
    {
     "data": {
      "text/html": [
       "<div>\n",
       "<style scoped>\n",
       "    .dataframe tbody tr th:only-of-type {\n",
       "        vertical-align: middle;\n",
       "    }\n",
       "\n",
       "    .dataframe tbody tr th {\n",
       "        vertical-align: top;\n",
       "    }\n",
       "\n",
       "    .dataframe thead th {\n",
       "        text-align: right;\n",
       "    }\n",
       "</style>\n",
       "<table border=\"1\" class=\"dataframe\">\n",
       "  <thead>\n",
       "    <tr style=\"text-align: right;\">\n",
       "      <th></th>\n",
       "      <th>model_name</th>\n",
       "      <th>mape</th>\n",
       "    </tr>\n",
       "  </thead>\n",
       "  <tbody>\n",
       "    <tr>\n",
       "      <th>0</th>\n",
       "      <td>SimpleExponential</td>\n",
       "      <td>9.681026</td>\n",
       "    </tr>\n",
       "    <tr>\n",
       "      <th>1</th>\n",
       "      <td>Holts_winter</td>\n",
       "      <td>11.025175</td>\n",
       "    </tr>\n",
       "    <tr>\n",
       "      <th>2</th>\n",
       "      <td>HoltsWinterExponential_1</td>\n",
       "      <td>5.054128</td>\n",
       "    </tr>\n",
       "    <tr>\n",
       "      <th>3</th>\n",
       "      <td>HoltsWinterExponential_2</td>\n",
       "      <td>2.139957</td>\n",
       "    </tr>\n",
       "    <tr>\n",
       "      <th>4</th>\n",
       "      <td>Auto_Arima</td>\n",
       "      <td>29.787337</td>\n",
       "    </tr>\n",
       "  </tbody>\n",
       "</table>\n",
       "</div>"
      ],
      "text/plain": [
       "                 model_name       mape\n",
       "0         SimpleExponential   9.681026\n",
       "1              Holts_winter  11.025175\n",
       "2  HoltsWinterExponential_1   5.054128\n",
       "3  HoltsWinterExponential_2   2.139957\n",
       "4                Auto_Arima  29.787337"
      ]
     },
     "execution_count": 22,
     "metadata": {},
     "output_type": "execute_result"
    }
   ],
   "source": [
    "model_mapes"
   ]
  },
  {
   "cell_type": "code",
   "execution_count": 31,
   "metadata": {},
   "outputs": [
    {
     "name": "stderr",
     "output_type": "stream",
     "text": [
      "C:\\Users\\Pavan K M\\anaconda3\\envs\\New Version\\lib\\site-packages\\statsmodels\\tsa\\holtwinters\\model.py:427: FutureWarning: After 0.13 initialization must be handled at model creation\n",
      "  warnings.warn(\n"
     ]
    },
    {
     "data": {
      "text/plain": [
       "<matplotlib.legend.Legend at 0x267579481f0>"
      ]
     },
     "execution_count": 31,
     "metadata": {},
     "output_type": "execute_result"
    },
    {
     "data": {
      "image/png": "[encoded data removed]",
      "text/plain": [
       "<Figure size 432x288 with 1 Axes>"
      ]
     },
     "metadata": {
      "needs_background": "light"
     },
     "output_type": "display_data"
    }
   ],
   "source": [
    "# The HoltsWinterExponential_2 have the least mape value so lets proceed with this \n",
    "hwe_model_mul_add = ExponentialSmoothing(data[\"Sales\"],seasonal=\"mul\",trend=\"add\",seasonal_periods=12).fit()\n",
    "pred_hwe_mul_add = hwe_model_mul_add.predict(start = data.index[0],end = data.index[-1])\n",
    "\n",
    "plt.plot(data.index, data[\"Sales\"], label='Actual Data',color=\"black\")\n",
    "plt.plot(pred_hwe_mul_add.index,pred_hwe_mul_add,label=\"HoltsWinterExponential_2 Forecast\",color=\"green\")\n",
    "plt.legend(loc='best')"
   ]
  },
  {
   "cell_type": "code",
   "execution_count": 32,
   "metadata": {},
   "outputs": [
    {
     "data": {
      "text/plain": [
       "0     1884.469296\n",
       "1     2234.315108\n",
       "2     2556.153029\n",
       "3     2208.865867\n",
       "4     1783.850805\n",
       "5     2196.066724\n",
       "6     2030.951086\n",
       "7     1935.746806\n",
       "8     1893.996816\n",
       "9     2339.816839\n",
       "10    2238.220508\n",
       "11    1978.107170\n",
       "12    1665.223536\n",
       "13    2260.884882\n",
       "14    2582.821864\n",
       "15    2069.039104\n",
       "16    1595.881855\n",
       "17    2534.231034\n",
       "18    2562.114784\n",
       "19    2657.496814\n",
       "20    2519.808556\n",
       "21    3176.906524\n",
       "22    2985.079961\n",
       "23    2951.128384\n",
       "24    2669.223879\n",
       "25    3299.459090\n",
       "26    3486.013859\n",
       "27    3435.538611\n",
       "28    3034.748844\n",
       "29    3695.379570\n",
       "30    3722.095705\n",
       "31    3406.507600\n",
       "32    3304.464669\n",
       "33    4138.848726\n",
       "34    4310.865002\n",
       "35    4007.915257\n",
       "36    3815.351869\n",
       "37    4773.801717\n",
       "38    4760.200932\n",
       "39    4556.407195\n",
       "40    4197.793805\n",
       "41    5245.479139\n",
       "dtype: float64"
      ]
     },
     "execution_count": 32,
     "metadata": {},
     "output_type": "execute_result"
    }
   ],
   "source": [
    "pred_hwe_mul_add"
   ]
  },
  {
   "cell_type": "code",
   "execution_count": 33,
   "metadata": {},
   "outputs": [
    {
     "data": {
      "text/html": [
       "<div>\n",
       "<style scoped>\n",
       "    .dataframe tbody tr th:only-of-type {\n",
       "        vertical-align: middle;\n",
       "    }\n",
       "\n",
       "    .dataframe tbody tr th {\n",
       "        vertical-align: top;\n",
       "    }\n",
       "\n",
       "    .dataframe thead th {\n",
       "        text-align: right;\n",
       "    }\n",
       "</style>\n",
       "<table border=\"1\" class=\"dataframe\">\n",
       "  <thead>\n",
       "    <tr style=\"text-align: right;\">\n",
       "      <th></th>\n",
       "      <th>Quarter</th>\n",
       "      <th>Sales</th>\n",
       "    </tr>\n",
       "  </thead>\n",
       "  <tbody>\n",
       "    <tr>\n",
       "      <th>0</th>\n",
       "      <td>Q1_86</td>\n",
       "      <td>1734.827000</td>\n",
       "    </tr>\n",
       "    <tr>\n",
       "      <th>1</th>\n",
       "      <td>Q2_86</td>\n",
       "      <td>2244.960999</td>\n",
       "    </tr>\n",
       "    <tr>\n",
       "      <th>2</th>\n",
       "      <td>Q3_86</td>\n",
       "      <td>2533.804993</td>\n",
       "    </tr>\n",
       "    <tr>\n",
       "      <th>3</th>\n",
       "      <td>Q4_86</td>\n",
       "      <td>2154.962997</td>\n",
       "    </tr>\n",
       "    <tr>\n",
       "      <th>4</th>\n",
       "      <td>Q1_87</td>\n",
       "      <td>1547.818996</td>\n",
       "    </tr>\n",
       "    <tr>\n",
       "      <th>5</th>\n",
       "      <td>Q2_87</td>\n",
       "      <td>2104.411995</td>\n",
       "    </tr>\n",
       "    <tr>\n",
       "      <th>6</th>\n",
       "      <td>Q3_87</td>\n",
       "      <td>2014.362999</td>\n",
       "    </tr>\n",
       "    <tr>\n",
       "      <th>7</th>\n",
       "      <td>Q4_87</td>\n",
       "      <td>1991.746998</td>\n",
       "    </tr>\n",
       "    <tr>\n",
       "      <th>8</th>\n",
       "      <td>Q1_88</td>\n",
       "      <td>1869.049999</td>\n",
       "    </tr>\n",
       "    <tr>\n",
       "      <th>9</th>\n",
       "      <td>Q2_88</td>\n",
       "      <td>2313.631996</td>\n",
       "    </tr>\n",
       "    <tr>\n",
       "      <th>10</th>\n",
       "      <td>Q3_88</td>\n",
       "      <td>2128.320000</td>\n",
       "    </tr>\n",
       "    <tr>\n",
       "      <th>11</th>\n",
       "      <td>Q4_88</td>\n",
       "      <td>2026.828999</td>\n",
       "    </tr>\n",
       "    <tr>\n",
       "      <th>12</th>\n",
       "      <td>Q1_89</td>\n",
       "      <td>1910.603996</td>\n",
       "    </tr>\n",
       "    <tr>\n",
       "      <th>13</th>\n",
       "      <td>Q2_89</td>\n",
       "      <td>2331.164993</td>\n",
       "    </tr>\n",
       "    <tr>\n",
       "      <th>14</th>\n",
       "      <td>Q3_89</td>\n",
       "      <td>2206.549995</td>\n",
       "    </tr>\n",
       "    <tr>\n",
       "      <th>15</th>\n",
       "      <td>Q4_89</td>\n",
       "      <td>2173.967995</td>\n",
       "    </tr>\n",
       "    <tr>\n",
       "      <th>16</th>\n",
       "      <td>Q1_90</td>\n",
       "      <td>2148.278000</td>\n",
       "    </tr>\n",
       "    <tr>\n",
       "      <th>17</th>\n",
       "      <td>Q2_90</td>\n",
       "      <td>2739.307999</td>\n",
       "    </tr>\n",
       "    <tr>\n",
       "      <th>18</th>\n",
       "      <td>Q3_90</td>\n",
       "      <td>2792.753998</td>\n",
       "    </tr>\n",
       "    <tr>\n",
       "      <th>19</th>\n",
       "      <td>Q4_90</td>\n",
       "      <td>2556.009995</td>\n",
       "    </tr>\n",
       "    <tr>\n",
       "      <th>20</th>\n",
       "      <td>Q1_91</td>\n",
       "      <td>2480.973999</td>\n",
       "    </tr>\n",
       "    <tr>\n",
       "      <th>21</th>\n",
       "      <td>Q2_91</td>\n",
       "      <td>3039.522995</td>\n",
       "    </tr>\n",
       "    <tr>\n",
       "      <th>22</th>\n",
       "      <td>Q3_91</td>\n",
       "      <td>3172.115997</td>\n",
       "    </tr>\n",
       "    <tr>\n",
       "      <th>23</th>\n",
       "      <td>Q4_91</td>\n",
       "      <td>2879.000999</td>\n",
       "    </tr>\n",
       "    <tr>\n",
       "      <th>24</th>\n",
       "      <td>Q1_92</td>\n",
       "      <td>2772.000000</td>\n",
       "    </tr>\n",
       "    <tr>\n",
       "      <th>25</th>\n",
       "      <td>Q2_92</td>\n",
       "      <td>3550.000000</td>\n",
       "    </tr>\n",
       "    <tr>\n",
       "      <th>26</th>\n",
       "      <td>Q3_92</td>\n",
       "      <td>3508.000000</td>\n",
       "    </tr>\n",
       "    <tr>\n",
       "      <th>27</th>\n",
       "      <td>Q4_92</td>\n",
       "      <td>3243.859993</td>\n",
       "    </tr>\n",
       "    <tr>\n",
       "      <th>28</th>\n",
       "      <td>Q1_93</td>\n",
       "      <td>3056.000000</td>\n",
       "    </tr>\n",
       "    <tr>\n",
       "      <th>29</th>\n",
       "      <td>Q2_93</td>\n",
       "      <td>3899.000000</td>\n",
       "    </tr>\n",
       "    <tr>\n",
       "      <th>30</th>\n",
       "      <td>Q3_93</td>\n",
       "      <td>3629.000000</td>\n",
       "    </tr>\n",
       "    <tr>\n",
       "      <th>31</th>\n",
       "      <td>Q4_93</td>\n",
       "      <td>3373.000000</td>\n",
       "    </tr>\n",
       "    <tr>\n",
       "      <th>32</th>\n",
       "      <td>Q1_94</td>\n",
       "      <td>3352.000000</td>\n",
       "    </tr>\n",
       "    <tr>\n",
       "      <th>33</th>\n",
       "      <td>Q2_94</td>\n",
       "      <td>4342.000000</td>\n",
       "    </tr>\n",
       "    <tr>\n",
       "      <th>34</th>\n",
       "      <td>Q3_94</td>\n",
       "      <td>4461.000000</td>\n",
       "    </tr>\n",
       "    <tr>\n",
       "      <th>35</th>\n",
       "      <td>Q4_94</td>\n",
       "      <td>4017.000000</td>\n",
       "    </tr>\n",
       "    <tr>\n",
       "      <th>36</th>\n",
       "      <td>Q1_95</td>\n",
       "      <td>3854.000000</td>\n",
       "    </tr>\n",
       "    <tr>\n",
       "      <th>37</th>\n",
       "      <td>Q2_95</td>\n",
       "      <td>4936.000000</td>\n",
       "    </tr>\n",
       "    <tr>\n",
       "      <th>38</th>\n",
       "      <td>Q3_95</td>\n",
       "      <td>4895.000000</td>\n",
       "    </tr>\n",
       "    <tr>\n",
       "      <th>39</th>\n",
       "      <td>Q4_95</td>\n",
       "      <td>4333.000000</td>\n",
       "    </tr>\n",
       "    <tr>\n",
       "      <th>40</th>\n",
       "      <td>Q1_96</td>\n",
       "      <td>4194.000000</td>\n",
       "    </tr>\n",
       "    <tr>\n",
       "      <th>41</th>\n",
       "      <td>Q2_96</td>\n",
       "      <td>5253.000000</td>\n",
       "    </tr>\n",
       "  </tbody>\n",
       "</table>\n",
       "</div>"
      ],
      "text/plain": [
       "   Quarter        Sales\n",
       "0    Q1_86  1734.827000\n",
       "1    Q2_86  2244.960999\n",
       "2    Q3_86  2533.804993\n",
       "3    Q4_86  2154.962997\n",
       "4    Q1_87  1547.818996\n",
       "5    Q2_87  2104.411995\n",
       "6    Q3_87  2014.362999\n",
       "7    Q4_87  1991.746998\n",
       "8    Q1_88  1869.049999\n",
       "9    Q2_88  2313.631996\n",
       "10   Q3_88  2128.320000\n",
       "11   Q4_88  2026.828999\n",
       "12   Q1_89  1910.603996\n",
       "13   Q2_89  2331.164993\n",
       "14   Q3_89  2206.549995\n",
       "15   Q4_89  2173.967995\n",
       "16   Q1_90  2148.278000\n",
       "17   Q2_90  2739.307999\n",
       "18   Q3_90  2792.753998\n",
       "19   Q4_90  2556.009995\n",
       "20   Q1_91  2480.973999\n",
       "21   Q2_91  3039.522995\n",
       "22   Q3_91  3172.115997\n",
       "23   Q4_91  2879.000999\n",
       "24   Q1_92  2772.000000\n",
       "25   Q2_92  3550.000000\n",
       "26   Q3_92  3508.000000\n",
       "27   Q4_92  3243.859993\n",
       "28   Q1_93  3056.000000\n",
       "29   Q2_93  3899.000000\n",
       "30   Q3_93  3629.000000\n",
       "31   Q4_93  3373.000000\n",
       "32   Q1_94  3352.000000\n",
       "33   Q2_94  4342.000000\n",
       "34   Q3_94  4461.000000\n",
       "35   Q4_94  4017.000000\n",
       "36   Q1_95  3854.000000\n",
       "37   Q2_95  4936.000000\n",
       "38   Q3_95  4895.000000\n",
       "39   Q4_95  4333.000000\n",
       "40   Q1_96  4194.000000\n",
       "41   Q2_96  5253.000000"
      ]
     },
     "execution_count": 33,
     "metadata": {},
     "output_type": "execute_result"
    }
   ],
   "source": [
    "data"
   ]
  },
  {
   "cell_type": "code",
   "execution_count": null,
   "metadata": {},
   "outputs": [],
   "source": []
  }
 ],
 "metadata": {
  "kernelspec": {
   "display_name": "Python 3",
   "language": "python",
   "name": "python3"
  },
  "language_info": {
   "codemirror_mode": {
    "name": "ipython",
    "version": 3
   },
   "file_extension": ".py",
   "mimetype": "text/x-python",
   "name": "python",
   "nbconvert_exporter": "python",
   "pygments_lexer": "ipython3",
   "version": "3.8.3"
  }
 },
 "nbformat": 4,
 "nbformat_minor": 4
}
