{
 "cells": [
  {
   "cell_type": "code",
   "execution_count": 25,
   "metadata": {},
   "outputs": [],
   "source": [
    "lab=read.csv(\"Datasets/LabTAT.csv\")"
   ]
  },
  {
   "cell_type": "code",
   "execution_count": 26,
   "metadata": {},
   "outputs": [
    {
     "data": {
      "text/html": [
       "<table>\n",
       "<thead><tr><th scope=col>Laboratory.1</th><th scope=col>Laboratory.2</th><th scope=col>Laboratory.3</th><th scope=col>Laboratory.4</th></tr></thead>\n",
       "<tbody>\n",
       "\t<tr><td>185.35</td><td>165.53</td><td>176.70</td><td>166.13</td></tr>\n",
       "\t<tr><td>170.49</td><td>185.91</td><td>198.45</td><td>160.79</td></tr>\n",
       "\t<tr><td>192.77</td><td>194.92</td><td>201.23</td><td>185.18</td></tr>\n",
       "\t<tr><td>177.33</td><td>183.00</td><td>199.61</td><td>176.42</td></tr>\n",
       "\t<tr><td>193.41</td><td>169.57</td><td>204.63</td><td>152.60</td></tr>\n",
       "\t<tr><td>179.45</td><td>197.00</td><td>181.51</td><td>161.12</td></tr>\n",
       "</tbody>\n",
       "</table>\n"
      ],
      "text/latex": [
       "\\begin{tabular}{r|llll}\n",
       " Laboratory.1 & Laboratory.2 & Laboratory.3 & Laboratory.4\\\\\n",
       "\\hline\n",
       "\t 185.35 & 165.53 & 176.70 & 166.13\\\\\n",
       "\t 170.49 & 185.91 & 198.45 & 160.79\\\\\n",
       "\t 192.77 & 194.92 & 201.23 & 185.18\\\\\n",
       "\t 177.33 & 183.00 & 199.61 & 176.42\\\\\n",
       "\t 193.41 & 169.57 & 204.63 & 152.60\\\\\n",
       "\t 179.45 & 197.00 & 181.51 & 161.12\\\\\n",
       "\\end{tabular}\n"
      ],
      "text/markdown": [
       "\n",
       "| Laboratory.1 | Laboratory.2 | Laboratory.3 | Laboratory.4 |\n",
       "|---|---|---|---|\n",
       "| 185.35 | 165.53 | 176.70 | 166.13 |\n",
       "| 170.49 | 185.91 | 198.45 | 160.79 |\n",
       "| 192.77 | 194.92 | 201.23 | 185.18 |\n",
       "| 177.33 | 183.00 | 199.61 | 176.42 |\n",
       "| 193.41 | 169.57 | 204.63 | 152.60 |\n",
       "| 179.45 | 197.00 | 181.51 | 161.12 |\n",
       "\n"
      ],
      "text/plain": [
       "  Laboratory.1 Laboratory.2 Laboratory.3 Laboratory.4\n",
       "1 185.35       165.53       176.70       166.13      \n",
       "2 170.49       185.91       198.45       160.79      \n",
       "3 192.77       194.92       201.23       185.18      \n",
       "4 177.33       183.00       199.61       176.42      \n",
       "5 193.41       169.57       204.63       152.60      \n",
       "6 179.45       197.00       181.51       161.12      "
      ]
     },
     "metadata": {},
     "output_type": "display_data"
    }
   ],
   "source": [
    "head(lab)"
   ]
  },
  {
   "cell_type": "code",
   "execution_count": 27,
   "metadata": {},
   "outputs": [
    {
     "data": {
      "text/plain": [
       "\n",
       "\tShapiro-Wilk normality test\n",
       "\n",
       "data:  lab$Laboratory.1\n",
       "W = 0.99018, p-value = 0.5508\n"
      ]
     },
     "metadata": {},
     "output_type": "display_data"
    }
   ],
   "source": [
    "shapiro.test(lab$Laboratory.1)"
   ]
  },
  {
   "cell_type": "code",
   "execution_count": 28,
   "metadata": {},
   "outputs": [
    {
     "data": {
      "text/plain": [
       "\n",
       "\tShapiro-Wilk normality test\n",
       "\n",
       "data:  lab$Laboratory.2\n",
       "W = 0.99363, p-value = 0.8637\n"
      ]
     },
     "metadata": {},
     "output_type": "display_data"
    }
   ],
   "source": [
    "shapiro.test(lab$Laboratory.2)"
   ]
  },
  {
   "cell_type": "code",
   "execution_count": 29,
   "metadata": {},
   "outputs": [
    {
     "data": {
      "text/plain": [
       "\n",
       "\tShapiro-Wilk normality test\n",
       "\n",
       "data:  lab$Laboratory.3\n",
       "W = 0.98863, p-value = 0.4205\n"
      ]
     },
     "metadata": {},
     "output_type": "display_data"
    }
   ],
   "source": [
    "shapiro.test(lab$Laboratory.3)"
   ]
  },
  {
   "cell_type": "code",
   "execution_count": 30,
   "metadata": {},
   "outputs": [
    {
     "data": {
      "text/plain": [
       "\n",
       "\tShapiro-Wilk normality test\n",
       "\n",
       "data:  lab$Laboratory.4\n",
       "W = 0.99138, p-value = 0.6619\n"
      ]
     },
     "metadata": {},
     "output_type": "display_data"
    }
   ],
   "source": [
    "shapiro.test(lab$Laboratory.4)"
   ]
  },
  {
   "cell_type": "code",
   "execution_count": 31,
   "metadata": {},
   "outputs": [
    {
     "data": {
      "text/plain": [
       "\n",
       "\tF test to compare two variances\n",
       "\n",
       "data:  lab$Laboratory.1 and lab$Laboratory.2\n",
       "F = 0.77573, num df = 119, denom df = 119, p-value = 0.1675\n",
       "alternative hypothesis: true ratio of variances is not equal to 1\n",
       "95 percent confidence interval:\n",
       " 0.5406345 1.1130690\n",
       "sample estimates:\n",
       "ratio of variances \n",
       "         0.7757342 \n"
      ]
     },
     "metadata": {},
     "output_type": "display_data"
    }
   ],
   "source": [
    "var.test(lab$Laboratory.1,lab$Laboratory.2)"
   ]
  },
  {
   "cell_type": "code",
   "execution_count": 32,
   "metadata": {},
   "outputs": [
    {
     "data": {
      "text/plain": [
       "\n",
       "\tF test to compare two variances\n",
       "\n",
       "data:  lab$Laboratory.2 and lab$Laboratory.3\n",
       "F = 0.81785, num df = 119, denom df = 119, p-value = 0.2742\n",
       "alternative hypothesis: true ratio of variances is not equal to 1\n",
       "95 percent confidence interval:\n",
       " 0.5699887 1.1735038\n",
       "sample estimates:\n",
       "ratio of variances \n",
       "         0.8178532 \n"
      ]
     },
     "metadata": {},
     "output_type": "display_data"
    }
   ],
   "source": [
    "var.test(lab$Laboratory.2,lab$Laboratory.3)"
   ]
  },
  {
   "cell_type": "code",
   "execution_count": 33,
   "metadata": {},
   "outputs": [
    {
     "data": {
      "text/plain": [
       "\n",
       "\tF test to compare two variances\n",
       "\n",
       "data:  lab$Laboratory.3 and lab$Laboratory.4\n",
       "F = 1.2021, num df = 119, denom df = 119, p-value = 0.3168\n",
       "alternative hypothesis: true ratio of variances is not equal to 1\n",
       "95 percent confidence interval:\n",
       " 0.8377527 1.7247817\n",
       "sample estimates:\n",
       "ratio of variances \n",
       "          1.202057 \n"
      ]
     },
     "metadata": {},
     "output_type": "display_data"
    }
   ],
   "source": [
    "var.test(lab$Laboratory.3,lab$Laboratory.4)"
   ]
  },
  {
   "cell_type": "code",
   "execution_count": 34,
   "metadata": {},
   "outputs": [
    {
     "data": {
      "text/plain": [
       "\n",
       "\tF test to compare two variances\n",
       "\n",
       "data:  lab$Laboratory.4 and lab$Laboratory.1\n",
       "F = 1.3113, num df = 119, denom df = 119, p-value = 0.1408\n",
       "alternative hypothesis: true ratio of variances is not equal to 1\n",
       "95 percent confidence interval:\n",
       " 0.9138556 1.8814637\n",
       "sample estimates:\n",
       "ratio of variances \n",
       "          1.311254 \n"
      ]
     },
     "metadata": {},
     "output_type": "display_data"
    }
   ],
   "source": [
    "var.test(lab$Laboratory.4,lab$Laboratory.1)"
   ]
  },
  {
   "cell_type": "code",
   "execution_count": 35,
   "metadata": {},
   "outputs": [
    {
     "data": {
      "text/plain": [
       "              Df Sum Sq Mean Sq F value Pr(>F)\n",
       "Laboratory.2   1    332   332.0   1.928  0.168\n",
       "Residuals    118  20320   172.2               "
      ]
     },
     "metadata": {},
     "output_type": "display_data"
    }
   ],
   "source": [
    "anova=aov(Laboratory.1~Laboratory.2,data=lab)\n",
    "summary(anova)"
   ]
  },
  {
   "cell_type": "code",
   "execution_count": 36,
   "metadata": {},
   "outputs": [
    {
     "data": {
      "text/plain": [
       "              Df Sum Sq Mean Sq F value Pr(>F)\n",
       "Laboratory.3   1    116   115.8   0.516  0.474\n",
       "Residuals    118  26506   224.6               "
      ]
     },
     "metadata": {},
     "output_type": "display_data"
    }
   ],
   "source": [
    "anova=aov(Laboratory.2~Laboratory.3,data=lab)\n",
    "summary(anova)"
   ]
  },
  {
   "cell_type": "code",
   "execution_count": 37,
   "metadata": {},
   "outputs": [
    {
     "data": {
      "text/plain": [
       "              Df Sum Sq Mean Sq F value Pr(>F)\n",
       "Laboratory.4   1    510   510.3   1.879  0.173\n",
       "Residuals    118  32041   271.5               "
      ]
     },
     "metadata": {},
     "output_type": "display_data"
    }
   ],
   "source": [
    "anova=aov(Laboratory.3~Laboratory.4,data=lab)\n",
    "summary(anova)"
   ]
  },
  {
   "cell_type": "code",
   "execution_count": 38,
   "metadata": {},
   "outputs": [
    {
     "data": {
      "text/plain": [
       "              Df Sum Sq Mean Sq F value Pr(>F)\n",
       "Laboratory.1   1    231   231.3   1.016  0.315\n",
       "Residuals    118  26848   227.5               "
      ]
     },
     "metadata": {},
     "output_type": "display_data"
    }
   ],
   "source": [
    "anova=aov(Laboratory.4~Laboratory.1,data=lab)\n",
    "summary(anova)"
   ]
  },
  {
   "cell_type": "code",
   "execution_count": null,
   "metadata": {},
   "outputs": [],
   "source": []
  }
 ],
 "metadata": {
  "kernelspec": {
   "display_name": "Python 3",
   "language": "python",
   "name": "python3"
  },
  "language_info": {
   "codemirror_mode": {
    "name": "ipython",
    "version": 3
   },
   "file_extension": ".py",
   "mimetype": "text/x-python",
   "name": "python",
   "nbconvert_exporter": "python",
   "pygments_lexer": "ipython3",
   "version": "3.8.3"
  }
 },
 "nbformat": 4,
 "nbformat_minor": 4
}
