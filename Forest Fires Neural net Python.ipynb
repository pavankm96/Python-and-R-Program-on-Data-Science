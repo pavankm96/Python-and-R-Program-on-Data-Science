{
 "cells": [
  {
   "cell_type": "code",
   "execution_count": 43,
   "metadata": {},
   "outputs": [],
   "source": [
    "import pandas as pd \n",
    "import numpy as np"
   ]
  },
  {
   "cell_type": "code",
   "execution_count": 44,
   "metadata": {},
   "outputs": [
    {
     "data": {
      "text/html": [
       "<div>\n",
       "<style scoped>\n",
       "    .dataframe tbody tr th:only-of-type {\n",
       "        vertical-align: middle;\n",
       "    }\n",
       "\n",
       "    .dataframe tbody tr th {\n",
       "        vertical-align: top;\n",
       "    }\n",
       "\n",
       "    .dataframe thead th {\n",
       "        text-align: right;\n",
       "    }\n",
       "</style>\n",
       "<table border=\"1\" class=\"dataframe\">\n",
       "  <thead>\n",
       "    <tr style=\"text-align: right;\">\n",
       "      <th></th>\n",
       "      <th>area</th>\n",
       "      <th>dayfri</th>\n",
       "      <th>daymon</th>\n",
       "      <th>daysat</th>\n",
       "      <th>daysun</th>\n",
       "      <th>daythu</th>\n",
       "      <th>daytue</th>\n",
       "      <th>daywed</th>\n",
       "      <th>monthapr</th>\n",
       "      <th>monthaug</th>\n",
       "      <th>monthdec</th>\n",
       "      <th>monthfeb</th>\n",
       "      <th>monthjan</th>\n",
       "      <th>monthjul</th>\n",
       "      <th>monthjun</th>\n",
       "      <th>monthmar</th>\n",
       "      <th>monthmay</th>\n",
       "      <th>monthnov</th>\n",
       "      <th>monthoct</th>\n",
       "      <th>monthsep</th>\n",
       "    </tr>\n",
       "  </thead>\n",
       "  <tbody>\n",
       "    <tr>\n",
       "      <th>0</th>\n",
       "      <td>0.0</td>\n",
       "      <td>1</td>\n",
       "      <td>0</td>\n",
       "      <td>0</td>\n",
       "      <td>0</td>\n",
       "      <td>0</td>\n",
       "      <td>0</td>\n",
       "      <td>0</td>\n",
       "      <td>0</td>\n",
       "      <td>0</td>\n",
       "      <td>0</td>\n",
       "      <td>0</td>\n",
       "      <td>0</td>\n",
       "      <td>0</td>\n",
       "      <td>0</td>\n",
       "      <td>1</td>\n",
       "      <td>0</td>\n",
       "      <td>0</td>\n",
       "      <td>0</td>\n",
       "      <td>0</td>\n",
       "    </tr>\n",
       "    <tr>\n",
       "      <th>1</th>\n",
       "      <td>0.0</td>\n",
       "      <td>0</td>\n",
       "      <td>0</td>\n",
       "      <td>0</td>\n",
       "      <td>0</td>\n",
       "      <td>0</td>\n",
       "      <td>1</td>\n",
       "      <td>0</td>\n",
       "      <td>0</td>\n",
       "      <td>0</td>\n",
       "      <td>0</td>\n",
       "      <td>0</td>\n",
       "      <td>0</td>\n",
       "      <td>0</td>\n",
       "      <td>0</td>\n",
       "      <td>0</td>\n",
       "      <td>0</td>\n",
       "      <td>0</td>\n",
       "      <td>1</td>\n",
       "      <td>0</td>\n",
       "    </tr>\n",
       "    <tr>\n",
       "      <th>2</th>\n",
       "      <td>0.0</td>\n",
       "      <td>0</td>\n",
       "      <td>0</td>\n",
       "      <td>1</td>\n",
       "      <td>0</td>\n",
       "      <td>0</td>\n",
       "      <td>0</td>\n",
       "      <td>0</td>\n",
       "      <td>0</td>\n",
       "      <td>0</td>\n",
       "      <td>0</td>\n",
       "      <td>0</td>\n",
       "      <td>0</td>\n",
       "      <td>0</td>\n",
       "      <td>0</td>\n",
       "      <td>0</td>\n",
       "      <td>0</td>\n",
       "      <td>0</td>\n",
       "      <td>1</td>\n",
       "      <td>0</td>\n",
       "    </tr>\n",
       "    <tr>\n",
       "      <th>3</th>\n",
       "      <td>0.0</td>\n",
       "      <td>1</td>\n",
       "      <td>0</td>\n",
       "      <td>0</td>\n",
       "      <td>0</td>\n",
       "      <td>0</td>\n",
       "      <td>0</td>\n",
       "      <td>0</td>\n",
       "      <td>0</td>\n",
       "      <td>0</td>\n",
       "      <td>0</td>\n",
       "      <td>0</td>\n",
       "      <td>0</td>\n",
       "      <td>0</td>\n",
       "      <td>0</td>\n",
       "      <td>1</td>\n",
       "      <td>0</td>\n",
       "      <td>0</td>\n",
       "      <td>0</td>\n",
       "      <td>0</td>\n",
       "    </tr>\n",
       "    <tr>\n",
       "      <th>4</th>\n",
       "      <td>0.0</td>\n",
       "      <td>0</td>\n",
       "      <td>0</td>\n",
       "      <td>0</td>\n",
       "      <td>1</td>\n",
       "      <td>0</td>\n",
       "      <td>0</td>\n",
       "      <td>0</td>\n",
       "      <td>0</td>\n",
       "      <td>0</td>\n",
       "      <td>0</td>\n",
       "      <td>0</td>\n",
       "      <td>0</td>\n",
       "      <td>0</td>\n",
       "      <td>0</td>\n",
       "      <td>1</td>\n",
       "      <td>0</td>\n",
       "      <td>0</td>\n",
       "      <td>0</td>\n",
       "      <td>0</td>\n",
       "    </tr>\n",
       "  </tbody>\n",
       "</table>\n",
       "</div>"
      ],
      "text/plain": [
       "   area  dayfri  daymon  daysat  daysun  daythu  daytue  daywed  monthapr  \\\n",
       "0   0.0       1       0       0       0       0       0       0         0   \n",
       "1   0.0       0       0       0       0       0       1       0         0   \n",
       "2   0.0       0       0       1       0       0       0       0         0   \n",
       "3   0.0       1       0       0       0       0       0       0         0   \n",
       "4   0.0       0       0       0       1       0       0       0         0   \n",
       "\n",
       "   monthaug  monthdec  monthfeb  monthjan  monthjul  monthjun  monthmar  \\\n",
       "0         0         0         0         0         0         0         1   \n",
       "1         0         0         0         0         0         0         0   \n",
       "2         0         0         0         0         0         0         0   \n",
       "3         0         0         0         0         0         0         1   \n",
       "4         0         0         0         0         0         0         1   \n",
       "\n",
       "   monthmay  monthnov  monthoct  monthsep  \n",
       "0         0         0         0         0  \n",
       "1         0         0         1         0  \n",
       "2         0         0         1         0  \n",
       "3         0         0         0         0  \n",
       "4         0         0         0         0  "
      ]
     },
     "execution_count": 44,
     "metadata": {},
     "output_type": "execute_result"
    }
   ],
   "source": [
    "data=pd.read_csv(\"Datasets/forestfires.csv\")\n",
    "data=data.drop(['month','day','FFMC','DMC','DC','ISI','temp','RH','wind','rain','size_category'],axis=1)\n",
    "#data=data.drop(['month','day','size_category'],axis=1)\n",
    "data.head()"
   ]
  },
  {
   "cell_type": "code",
   "execution_count": null,
   "metadata": {},
   "outputs": [],
   "source": [
    "import matplotlib.pyplot as plt\n",
    "\n",
    "for x in"
   ]
  },
  {
   "cell_type": "code",
   "execution_count": 45,
   "metadata": {},
   "outputs": [],
   "source": [
    "x=data.drop(['area'], axis=1)"
   ]
  },
  {
   "cell_type": "code",
   "execution_count": 46,
   "metadata": {},
   "outputs": [],
   "source": [
    "y=data['area']"
   ]
  },
  {
   "cell_type": "code",
   "execution_count": 47,
   "metadata": {},
   "outputs": [],
   "source": [
    "from sklearn.model_selection import train_test_split\n",
    "\n",
    "x_train,x_test,y_train,y_test=train_test_split(x,y,test_size=0.4,random_state=0)"
   ]
  },
  {
   "cell_type": "code",
   "execution_count": 48,
   "metadata": {},
   "outputs": [],
   "source": [
    "from sklearn.preprocessing import StandardScaler\n",
    "scaler = StandardScaler()\n",
    "scaler.fit(x_train)\n",
    "\n",
    "# Now apply the transformations to the data:\n",
    "x_train = scaler.transform(x_train)\n",
    "x_test = scaler.transform(x_test)"
   ]
  },
  {
   "cell_type": "code",
   "execution_count": 49,
   "metadata": {},
   "outputs": [
    {
     "name": "stderr",
     "output_type": "stream",
     "text": [
      "C:\\Users\\Pavan K M\\anaconda3\\envs\\New Version\\lib\\site-packages\\sklearn\\neural_network\\_multilayer_perceptron.py:582: ConvergenceWarning: Stochastic Optimizer: Maximum iterations (200) reached and the optimization hasn't converged yet.\n",
      "  warnings.warn(\n"
     ]
    },
    {
     "data": {
      "text/plain": [
       "MLPClassifier(hidden_layer_sizes=(30, 30))"
      ]
     },
     "execution_count": 49,
     "metadata": {},
     "output_type": "execute_result"
    }
   ],
   "source": [
    "from sklearn.neural_network import MLPClassifier\n",
    "mlp = MLPClassifier(hidden_layer_sizes=(30,30))\n",
    "mlp.fit(x_train.astype('int'),y_train.astype('int'))"
   ]
  },
  {
   "cell_type": "code",
   "execution_count": 50,
   "metadata": {},
   "outputs": [
    {
     "data": {
      "text/plain": [
       "array([  0,   0,   0,   0,  11,   0,   2,   1,   0,   0,   2,   0, 278,\n",
       "        24,   1,   0,   0,   0,   0,   1,   0,   0,   1,  49,   0,   1,\n",
       "         0,   1,   0,   0,   0,   0,   0,   4,   1,   0,   0,   0,   0,\n",
       "         0,   0,   0,   0,   0,   0,   0,   1,  49,   0,   0,   0,   0,\n",
       "         0,  11,   0,   0,   0,   0,   0,   0,   0,   3,   0,   0,   0,\n",
       "        11,  70,   0,   0,   1,   0,   0,   0,   1,   0,   0,   0,   0,\n",
       "         0,   1,   0,  11,  11,  11,   0,   0,   0,   0,   1,   0,   0,\n",
       "         0,   1,   0,   0,   1,  37,   0,   0,   2,   1,   0,   0,  11,\n",
       "         0,   0,   0,   0,   0,   0,   0,   2,   0,   0,   2,   0,   0,\n",
       "         0,   0,   0,   0,   1,   0,  11,  11,  11,   0, 278,   0,   0,\n",
       "         0,   2,   0,   0,   0,   0,   0,   0,  49,   0,   0,  11,   0,\n",
       "         9,   0,   0,   0,   2,   2,   5,   0,   0,  51,   0,   0,   0,\n",
       "         0,   0,   1,   0,   0,   0,   0,   0,   2,   0,   0,   0,   0,\n",
       "         0,   0,   0,  11,   0,   0,  51,   0,   0,   0,   0,   1,   0,\n",
       "         0,   0,   0,   0,   0,   2,   0,   0,   1,   0,  37,   0,   0,\n",
       "         0,   0,   0,   0,   0,   0,   0,   0,   0,   0,   0,   0,  11,\n",
       "        10,   0,   0,   0,   0,   0,   1,   0,  70, 278,   0,   0,  13,\n",
       "         0,   0,   0,   0,   0,   0, 278,   0,   0,   0,   0,   0,   0,\n",
       "         1,   0,   0,   0,   0,   0,   0,  38,   3,   0,   0,   0,   2,\n",
       "        24,  61,   0,   0,   2,   2,   0,  13,   0,   0,  49,   0,   0,\n",
       "         0,   0,   0,  51,   0,   1,   1,  11,   0,   0,   0,   0,   0,\n",
       "         1,  11,   0,   0,   0,   0,   0,   0,   0,   0,   0,   0,   0,\n",
       "         2,   0,   0,   0,   0,   0,   0,   0,   0,   0,   0,   0,   0,\n",
       "         0,   0,   0,   0,   0,   1,   0,  10,   0,   1,   0])"
      ]
     },
     "execution_count": 50,
     "metadata": {},
     "output_type": "execute_result"
    }
   ],
   "source": [
    "prediction_train=mlp.predict(x_train)\n",
    "prediction_train"
   ]
  },
  {
   "cell_type": "code",
   "execution_count": 51,
   "metadata": {},
   "outputs": [
    {
     "data": {
      "text/plain": [
       "array([ 0,  0,  0,  0,  2,  1,  0,  2,  0,  0,  2, 10,  3,  0,  1,  0,  0,\n",
       "        0,  6,  0,  0,  0,  2,  0,  0,  0,  0,  0,  0,  0,  0,  0,  1,  0,\n",
       "        2,  0,  0,  0,  0,  0,  0,  0,  0,  0,  0,  1,  0,  0,  2,  1,  0,\n",
       "        0,  0,  0,  0,  0,  6,  0,  1,  0,  0,  2,  0,  0,  0,  0,  0,  0,\n",
       "        2,  0,  0,  0,  0,  0,  0,  0,  1,  0,  1,  1,  0,  2,  3, 51,  0,\n",
       "        0,  0,  0,  0,  0,  0, 11,  1,  0, 37,  0,  0,  0,  0,  0,  0,  0,\n",
       "        1,  2,  0, 11,  2,  0,  0,  0,  0,  1, 61,  0,  0,  2, 11,  0,  0,\n",
       "        0,  0,  0,  0, 11,  1,  0,  0,  0,  0,  1,  0,  0,  1,  0,  2,  2,\n",
       "        2,  0,  0,  0,  0,  0,  0,  2,  0,  0,  0,  0,  0,  2,  1,  1,  1,\n",
       "        0,  0,  4,  2,  0,  2,  0,  0,  0,  0,  0,  1, 11,  0,  0,  0, 61,\n",
       "        0,  0,  0,  0,  0,  0,  0,  0,  0,  1,  0,  2,  0,  0,  0,  0,  0,\n",
       "        0,  0,  1,  0,  0,  0,  0,  0,  0,  0,  0,  2,  0,  0,  0, 10,  0,\n",
       "        0,  0,  0])"
      ]
     },
     "execution_count": 51,
     "metadata": {},
     "output_type": "execute_result"
    }
   ],
   "source": [
    "prediction_test = mlp.predict(x_test)\n",
    "prediction_test"
   ]
  },
  {
   "cell_type": "code",
   "execution_count": 52,
   "metadata": {},
   "outputs": [
    {
     "data": {
      "text/plain": [
       "0.33816425120772947"
      ]
     },
     "execution_count": 52,
     "metadata": {},
     "output_type": "execute_result"
    }
   ],
   "source": [
    "np.mean(y_test==prediction_test)"
   ]
  },
  {
   "cell_type": "code",
   "execution_count": 53,
   "metadata": {},
   "outputs": [
    {
     "data": {
      "text/plain": [
       "0.4129032258064516"
      ]
     },
     "execution_count": 53,
     "metadata": {},
     "output_type": "execute_result"
    }
   ],
   "source": [
    "np.mean(y_train==prediction_train)"
   ]
  },
  {
   "cell_type": "code",
   "execution_count": null,
   "metadata": {},
   "outputs": [],
   "source": []
  }
 ],
 "metadata": {
  "kernelspec": {
   "display_name": "Python 3",
   "language": "python",
   "name": "python3"
  },
  "language_info": {
   "codemirror_mode": {
    "name": "ipython",
    "version": 3
   },
   "file_extension": ".py",
   "mimetype": "text/x-python",
   "name": "python",
   "nbconvert_exporter": "python",
   "pygments_lexer": "ipython3",
   "version": "3.8.8"
  }
 },
 "nbformat": 4,
 "nbformat_minor": 4
}
