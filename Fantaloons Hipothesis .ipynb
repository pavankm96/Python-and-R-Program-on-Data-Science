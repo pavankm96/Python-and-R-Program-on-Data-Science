{
 "cells": [
  {
   "cell_type": "code",
   "execution_count": 3,
   "metadata": {},
   "outputs": [],
   "source": [
    "fan=read.csv(\"Datasets/Faltoons.csv\")"
   ]
  },
  {
   "cell_type": "code",
   "execution_count": 4,
   "metadata": {},
   "outputs": [
    {
     "data": {
      "text/html": [
       "<table>\n",
       "<thead><tr><th scope=col>Weekdays</th><th scope=col>Weekend</th></tr></thead>\n",
       "<tbody>\n",
       "\t<tr><td>Male  </td><td>Female</td></tr>\n",
       "\t<tr><td>Female</td><td>Male  </td></tr>\n",
       "\t<tr><td>Female</td><td>Male  </td></tr>\n",
       "\t<tr><td>Male  </td><td>Female</td></tr>\n",
       "\t<tr><td>Female</td><td>Female</td></tr>\n",
       "\t<tr><td>Female</td><td>Male  </td></tr>\n",
       "</tbody>\n",
       "</table>\n"
      ],
      "text/latex": [
       "\\begin{tabular}{r|ll}\n",
       " Weekdays & Weekend\\\\\n",
       "\\hline\n",
       "\t Male   & Female\\\\\n",
       "\t Female & Male  \\\\\n",
       "\t Female & Male  \\\\\n",
       "\t Male   & Female\\\\\n",
       "\t Female & Female\\\\\n",
       "\t Female & Male  \\\\\n",
       "\\end{tabular}\n"
      ],
      "text/markdown": [
       "\n",
       "| Weekdays | Weekend |\n",
       "|---|---|\n",
       "| Male   | Female |\n",
       "| Female | Male   |\n",
       "| Female | Male   |\n",
       "| Male   | Female |\n",
       "| Female | Female |\n",
       "| Female | Male   |\n",
       "\n"
      ],
      "text/plain": [
       "  Weekdays Weekend\n",
       "1 Male     Female \n",
       "2 Female   Male   \n",
       "3 Female   Male   \n",
       "4 Male     Female \n",
       "5 Female   Female \n",
       "6 Female   Male   "
      ]
     },
     "metadata": {},
     "output_type": "display_data"
    }
   ],
   "source": [
    "head(fan)"
   ]
  },
  {
   "cell_type": "code",
   "execution_count": 8,
   "metadata": {},
   "outputs": [
    {
     "data": {
      "text/plain": [
       "\n",
       "\tFisher's Exact Test for Count Data\n",
       "\n",
       "data:  fan$Weekdays and fan$Weekend\n",
       "p-value = 1\n",
       "alternative hypothesis: true odds ratio is not equal to 1\n",
       "95 percent confidence interval:\n",
       " 0.6204999 1.5759577\n",
       "sample estimates:\n",
       "odds ratio \n",
       " 0.9910571 \n"
      ]
     },
     "metadata": {},
     "output_type": "display_data"
    }
   ],
   "source": [
    "fisher.test(fan$Weekdays,fan$Weekend)"
   ]
  },
  {
   "cell_type": "code",
   "execution_count": null,
   "metadata": {},
   "outputs": [],
   "source": [
    "# Yes this is perfect that males and females walking in to store differ based on day of the week "
   ]
  }
 ],
 "metadata": {
  "kernelspec": {
   "display_name": "R",
   "language": "R",
   "name": "ir"
  },
  "language_info": {
   "codemirror_mode": "r",
   "file_extension": ".r",
   "mimetype": "text/x-r-source",
   "name": "R",
   "pygments_lexer": "r",
   "version": "3.6.1"
  }
 },
 "nbformat": 4,
 "nbformat_minor": 4
}
