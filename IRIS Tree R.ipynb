{
 "cells": [
  {
   "cell_type": "code",
   "execution_count": 1,
   "metadata": {},
   "outputs": [
    {
     "name": "stderr",
     "output_type": "stream",
     "text": [
      "Warning message:\n",
      "\"package 'tree' was built under R version 3.6.3\""
     ]
    }
   ],
   "source": [
    "library(tree)"
   ]
  },
  {
   "cell_type": "code",
   "execution_count": 2,
   "metadata": {},
   "outputs": [
    {
     "data": {
      "text/html": [
       "<table>\n",
       "<thead><tr><th scope=col>Sepal.Length</th><th scope=col>Sepal.Width</th><th scope=col>Petal.Length</th><th scope=col>Petal.Width</th><th scope=col>Species</th></tr></thead>\n",
       "<tbody>\n",
       "\t<tr><td>5.1   </td><td>3.5   </td><td>1.4   </td><td>0.2   </td><td>setosa</td></tr>\n",
       "\t<tr><td>4.9   </td><td>3.0   </td><td>1.4   </td><td>0.2   </td><td>setosa</td></tr>\n",
       "\t<tr><td>4.7   </td><td>3.2   </td><td>1.3   </td><td>0.2   </td><td>setosa</td></tr>\n",
       "\t<tr><td>4.6   </td><td>3.1   </td><td>1.5   </td><td>0.2   </td><td>setosa</td></tr>\n",
       "\t<tr><td>5.0   </td><td>3.6   </td><td>1.4   </td><td>0.2   </td><td>setosa</td></tr>\n",
       "\t<tr><td>5.4   </td><td>3.9   </td><td>1.7   </td><td>0.4   </td><td>setosa</td></tr>\n",
       "</tbody>\n",
       "</table>\n"
      ],
      "text/latex": [
       "\\begin{tabular}{r|lllll}\n",
       " Sepal.Length & Sepal.Width & Petal.Length & Petal.Width & Species\\\\\n",
       "\\hline\n",
       "\t 5.1    & 3.5    & 1.4    & 0.2    & setosa\\\\\n",
       "\t 4.9    & 3.0    & 1.4    & 0.2    & setosa\\\\\n",
       "\t 4.7    & 3.2    & 1.3    & 0.2    & setosa\\\\\n",
       "\t 4.6    & 3.1    & 1.5    & 0.2    & setosa\\\\\n",
       "\t 5.0    & 3.6    & 1.4    & 0.2    & setosa\\\\\n",
       "\t 5.4    & 3.9    & 1.7    & 0.4    & setosa\\\\\n",
       "\\end{tabular}\n"
      ],
      "text/markdown": [
       "\n",
       "| Sepal.Length | Sepal.Width | Petal.Length | Petal.Width | Species |\n",
       "|---|---|---|---|---|\n",
       "| 5.1    | 3.5    | 1.4    | 0.2    | setosa |\n",
       "| 4.9    | 3.0    | 1.4    | 0.2    | setosa |\n",
       "| 4.7    | 3.2    | 1.3    | 0.2    | setosa |\n",
       "| 4.6    | 3.1    | 1.5    | 0.2    | setosa |\n",
       "| 5.0    | 3.6    | 1.4    | 0.2    | setosa |\n",
       "| 5.4    | 3.9    | 1.7    | 0.4    | setosa |\n",
       "\n"
      ],
      "text/plain": [
       "  Sepal.Length Sepal.Width Petal.Length Petal.Width Species\n",
       "1 5.1          3.5         1.4          0.2         setosa \n",
       "2 4.9          3.0         1.4          0.2         setosa \n",
       "3 4.7          3.2         1.3          0.2         setosa \n",
       "4 4.6          3.1         1.5          0.2         setosa \n",
       "5 5.0          3.6         1.4          0.2         setosa \n",
       "6 5.4          3.9         1.7          0.4         setosa "
      ]
     },
     "metadata": {},
     "output_type": "display_data"
    }
   ],
   "source": [
    "head(iris)"
   ]
  },
  {
   "cell_type": "code",
   "execution_count": 3,
   "metadata": {},
   "outputs": [],
   "source": [
    "iris_setosa<-iris[iris$Species==\"setosa\",] # 50\n",
    "iris_versicolor <- iris[iris$Species==\"versicolor\",] # 50\n",
    "iris_virginica <- iris[iris$Species==\"virginica\",] # 50\n",
    "iris_train <- rbind(iris_setosa[1:25,],iris_versicolor[1:25,],iris_virginica[1:25,])\n",
    "iris_test <- rbind(iris_setosa[26:50,],iris_versicolor[26:50,],iris_virginica[26:50,])"
   ]
  },
  {
   "cell_type": "code",
   "execution_count": 4,
   "metadata": {},
   "outputs": [
    {
     "name": "stderr",
     "output_type": "stream",
     "text": [
      "Warning message:\n",
      "\"package 'C50' was built under R version 3.6.3\""
     ]
    },
    {
     "data": {
      "image/png": "[encoded data removed]",
      "text/plain": [
       "plot without title"
      ]
     },
     "metadata": {},
     "output_type": "display_data"
    }
   ],
   "source": [
    "library(C50)\n",
    "# Building model on training data \n",
    "irisc5.0_train <- C5.0(iris_train[,-5],iris_train$Species)\n",
    "windows()\n",
    "plot(irisc5.0_train) # Tree graph"
   ]
  },
  {
   "cell_type": "code",
   "execution_count": 5,
   "metadata": {},
   "outputs": [
    {
     "data": {
      "text/html": [
       "0.973333333333333"
      ],
      "text/latex": [
       "0.973333333333333"
      ],
      "text/markdown": [
       "0.973333333333333"
      ],
      "text/plain": [
       "[1] 0.9733333"
      ]
     },
     "metadata": {},
     "output_type": "display_data"
    }
   ],
   "source": [
    "# Training accuracy\n",
    "pred_train <- predict(irisc5.0_train,iris_train)\n",
    "\n",
    "mean(iris_train$Species==pred_train) # 97.33% Accuracy"
   ]
  },
  {
   "cell_type": "code",
   "execution_count": 6,
   "metadata": {},
   "outputs": [
    {
     "name": "stderr",
     "output_type": "stream",
     "text": [
      "Loading required package: lattice\n",
      "Loading required package: ggplot2\n",
      "Warning message:\n",
      "\"package 'ggplot2' was built under R version 3.6.3\""
     ]
    },
    {
     "data": {
      "text/plain": [
       "Confusion Matrix and Statistics\n",
       "\n",
       "            Reference\n",
       "Prediction   setosa versicolor virginica\n",
       "  setosa         25          0         0\n",
       "  versicolor      0         24         1\n",
       "  virginica       0          1        24\n",
       "\n",
       "Overall Statistics\n",
       "                                         \n",
       "               Accuracy : 0.9733         \n",
       "                 95% CI : (0.907, 0.9968)\n",
       "    No Information Rate : 0.3333         \n",
       "    P-Value [Acc > NIR] : < 2.2e-16      \n",
       "                                         \n",
       "                  Kappa : 0.96           \n",
       "                                         \n",
       " Mcnemar's Test P-Value : NA             \n",
       "\n",
       "Statistics by Class:\n",
       "\n",
       "                     Class: setosa Class: versicolor Class: virginica\n",
       "Sensitivity                 1.0000            0.9600           0.9600\n",
       "Specificity                 1.0000            0.9800           0.9800\n",
       "Pos Pred Value              1.0000            0.9600           0.9600\n",
       "Neg Pred Value              1.0000            0.9800           0.9800\n",
       "Prevalence                  0.3333            0.3333           0.3333\n",
       "Detection Rate              0.3333            0.3200           0.3200\n",
       "Detection Prevalence        0.3333            0.3333           0.3333\n",
       "Balanced Accuracy           1.0000            0.9700           0.9700"
      ]
     },
     "metadata": {},
     "output_type": "display_data"
    }
   ],
   "source": [
    "library(caret)\n",
    "confusionMatrix(pred_train,iris_train$Species)"
   ]
  },
  {
   "cell_type": "code",
   "execution_count": 7,
   "metadata": {},
   "outputs": [
    {
     "data": {
      "text/html": [
       "0.946666666666667"
      ],
      "text/latex": [
       "0.946666666666667"
      ],
      "text/markdown": [
       "0.946666666666667"
      ],
      "text/plain": [
       "[1] 0.9466667"
      ]
     },
     "metadata": {},
     "output_type": "display_data"
    },
    {
     "data": {
      "text/plain": [
       "Confusion Matrix and Statistics\n",
       "\n",
       "            Reference\n",
       "Prediction   setosa versicolor virginica\n",
       "  setosa         25          0         0\n",
       "  versicolor      0         24         3\n",
       "  virginica       0          1        22\n",
       "\n",
       "Overall Statistics\n",
       "                                         \n",
       "               Accuracy : 0.9467         \n",
       "                 95% CI : (0.869, 0.9853)\n",
       "    No Information Rate : 0.3333         \n",
       "    P-Value [Acc > NIR] : < 2.2e-16      \n",
       "                                         \n",
       "                  Kappa : 0.92           \n",
       "                                         \n",
       " Mcnemar's Test P-Value : NA             \n",
       "\n",
       "Statistics by Class:\n",
       "\n",
       "                     Class: setosa Class: versicolor Class: virginica\n",
       "Sensitivity                 1.0000            0.9600           0.8800\n",
       "Specificity                 1.0000            0.9400           0.9800\n",
       "Pos Pred Value              1.0000            0.8889           0.9565\n",
       "Neg Pred Value              1.0000            0.9792           0.9423\n",
       "Prevalence                  0.3333            0.3333           0.3333\n",
       "Detection Rate              0.3333            0.3200           0.2933\n",
       "Detection Prevalence        0.3333            0.3600           0.3067\n",
       "Balanced Accuracy           1.0000            0.9500           0.9300"
      ]
     },
     "metadata": {},
     "output_type": "display_data"
    }
   ],
   "source": [
    "predc5.0_test <- predict(irisc5.0_train,newdata=iris_test) # predicting on test data\n",
    "mean(predc5.0_test==iris_test$Species) # 94.66% accuracy \n",
    "confusionMatrix(predc5.0_test,iris_test$Species)"
   ]
  },
  {
   "cell_type": "code",
   "execution_count": 8,
   "metadata": {},
   "outputs": [
    {
     "name": "stderr",
     "output_type": "stream",
     "text": [
      "Warning message:\n",
      "\"package 'gmodels' was built under R version 3.6.3\""
     ]
    },
    {
     "name": "stdout",
     "output_type": "stream",
     "text": [
      "\n",
      " \n",
      "   Cell Contents\n",
      "|-------------------------|\n",
      "|                       N |\n",
      "| Chi-square contribution |\n",
      "|           N / Row Total |\n",
      "|           N / Col Total |\n",
      "|         N / Table Total |\n",
      "|-------------------------|\n",
      "\n",
      " \n",
      "Total Observations in Table:  75 \n",
      "\n",
      " \n",
      "                  | predc5.0_test \n",
      "iris_test$Species |     setosa | versicolor |  virginica |  Row Total | \n",
      "------------------|------------|------------|------------|------------|\n",
      "           setosa |         25 |          0 |          0 |         25 | \n",
      "                  |     33.333 |      9.000 |      7.667 |            | \n",
      "                  |      1.000 |      0.000 |      0.000 |      0.333 | \n",
      "                  |      1.000 |      0.000 |      0.000 |            | \n",
      "                  |      0.333 |      0.000 |      0.000 |            | \n",
      "------------------|------------|------------|------------|------------|\n",
      "       versicolor |          0 |         24 |          1 |         25 | \n",
      "                  |      8.333 |     25.000 |      5.797 |            | \n",
      "                  |      0.000 |      0.960 |      0.040 |      0.333 | \n",
      "                  |      0.000 |      0.889 |      0.043 |            | \n",
      "                  |      0.000 |      0.320 |      0.013 |            | \n",
      "------------------|------------|------------|------------|------------|\n",
      "        virginica |          0 |          3 |         22 |         25 | \n",
      "                  |      8.333 |      4.000 |     26.797 |            | \n",
      "                  |      0.000 |      0.120 |      0.880 |      0.333 | \n",
      "                  |      0.000 |      0.111 |      0.957 |            | \n",
      "                  |      0.000 |      0.040 |      0.293 |            | \n",
      "------------------|------------|------------|------------|------------|\n",
      "     Column Total |         25 |         27 |         23 |         75 | \n",
      "                  |      0.333 |      0.360 |      0.307 |            | \n",
      "------------------|------------|------------|------------|------------|\n",
      "\n",
      " \n"
     ]
    }
   ],
   "source": [
    "library(gmodels)\n",
    "# Cross tablez\n",
    "CrossTable(iris_test$Species,predc5.0_test)"
   ]
  },
  {
   "cell_type": "code",
   "execution_count": 9,
   "metadata": {},
   "outputs": [
    {
     "data": {
      "image/png": "[encoded data removed]",
      "text/plain": [
       "plot without title"
      ]
     },
     "metadata": {},
     "output_type": "display_data"
    }
   ],
   "source": [
    "##### Using tree function \n",
    "library(tree)\n",
    "# Building a model on training data \n",
    "iris_tree <- tree(Species~.,data=iris_train)\n",
    "plot(iris_tree)\n",
    "text(iris_tree,pretty = 0)"
   ]
  },
  {
   "cell_type": "code",
   "execution_count": 12,
   "metadata": {},
   "outputs": [],
   "source": [
    "pred_tree <- as.data.frame(predict(iris_tree,newdata=iris_test))\n",
    "pred_tree[\"final\"] <- NULL\n",
    "pred_test_df <- predict(iris_tree,newdata=iris_test)\n",
    "for (i in 1:nrow(pred_tree)){\n",
    "    pred_tree[i,\"final\"]<-ifelse(pred_tree[i,\"setosa\"]>0.5,\"setosa\",ifelse(pred_tree[i,\"versicolor\"]>0.5,\"versicolor\",\"virginica\"))\n",
    " }"
   ]
  },
  {
   "cell_type": "code",
   "execution_count": 13,
   "metadata": {},
   "outputs": [
    {
     "data": {
      "text/html": [
       "0.946666666666667"
      ],
      "text/latex": [
       "0.946666666666667"
      ],
      "text/markdown": [
       "0.946666666666667"
      ],
      "text/plain": [
       "[1] 0.9466667"
      ]
     },
     "metadata": {},
     "output_type": "display_data"
    },
    {
     "name": "stdout",
     "output_type": "stream",
     "text": [
      "\n",
      " \n",
      "   Cell Contents\n",
      "|-------------------------|\n",
      "|                       N |\n",
      "| Chi-square contribution |\n",
      "|           N / Row Total |\n",
      "|           N / Col Total |\n",
      "|         N / Table Total |\n",
      "|-------------------------|\n",
      "\n",
      " \n",
      "Total Observations in Table:  75 \n",
      "\n",
      " \n",
      "                  | pred_tree$final \n",
      "iris_test$Species |     setosa | versicolor |  virginica |  Row Total | \n",
      "------------------|------------|------------|------------|------------|\n",
      "           setosa |         25 |          0 |          0 |         25 | \n",
      "                  |     33.333 |      9.000 |      7.667 |            | \n",
      "                  |      1.000 |      0.000 |      0.000 |      0.333 | \n",
      "                  |      1.000 |      0.000 |      0.000 |            | \n",
      "                  |      0.333 |      0.000 |      0.000 |            | \n",
      "------------------|------------|------------|------------|------------|\n",
      "       versicolor |          0 |         24 |          1 |         25 | \n",
      "                  |      8.333 |     25.000 |      5.797 |            | \n",
      "                  |      0.000 |      0.960 |      0.040 |      0.333 | \n",
      "                  |      0.000 |      0.889 |      0.043 |            | \n",
      "                  |      0.000 |      0.320 |      0.013 |            | \n",
      "------------------|------------|------------|------------|------------|\n",
      "        virginica |          0 |          3 |         22 |         25 | \n",
      "                  |      8.333 |      4.000 |     26.797 |            | \n",
      "                  |      0.000 |      0.120 |      0.880 |      0.333 | \n",
      "                  |      0.000 |      0.111 |      0.957 |            | \n",
      "                  |      0.000 |      0.040 |      0.293 |            | \n",
      "------------------|------------|------------|------------|------------|\n",
      "     Column Total |         25 |         27 |         23 |         75 | \n",
      "                  |      0.333 |      0.360 |      0.307 |            | \n",
      "------------------|------------|------------|------------|------------|\n",
      "\n",
      " \n"
     ]
    }
   ],
   "source": [
    "mean(pred_tree$final==iris_test$Species) # Accuracy = 94.66%\n",
    "CrossTable(iris_test$Species,pred_tree$final)"
   ]
  },
  {
   "cell_type": "code",
   "execution_count": null,
   "metadata": {},
   "outputs": [],
   "source": []
  }
 ],
 "metadata": {
  "kernelspec": {
   "display_name": "Python 3",
   "language": "python",
   "name": "python3"
  },
  "language_info": {
   "codemirror_mode": {
    "name": "ipython",
    "version": 3
   },
   "file_extension": ".py",
   "mimetype": "text/x-python",
   "name": "python",
   "nbconvert_exporter": "python",
   "pygments_lexer": "ipython3",
   "version": "3.8.3"
  }
 },
 "nbformat": 4,
 "nbformat_minor": 4
}
