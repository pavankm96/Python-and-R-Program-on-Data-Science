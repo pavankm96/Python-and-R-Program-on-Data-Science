{
 "cells": [
  {
   "cell_type": "code",
   "execution_count": 1,
   "metadata": {},
   "outputs": [],
   "source": [
    "cutlet=read.csv(\"Datasets/Cutlets.csv\")"
   ]
  },
  {
   "cell_type": "code",
   "execution_count": 2,
   "metadata": {},
   "outputs": [
    {
     "data": {
      "text/html": [
       "<table>\n",
       "<thead><tr><th scope=col>Unit.A</th><th scope=col>Unit.B</th></tr></thead>\n",
       "<tbody>\n",
       "\t<tr><td>6.8090</td><td>6.7703</td></tr>\n",
       "\t<tr><td>6.4376</td><td>7.5093</td></tr>\n",
       "\t<tr><td>6.9157</td><td>6.7300</td></tr>\n",
       "\t<tr><td>7.3012</td><td>6.7878</td></tr>\n",
       "\t<tr><td>7.4488</td><td>7.1522</td></tr>\n",
       "\t<tr><td>7.3871</td><td>6.8110</td></tr>\n",
       "</tbody>\n",
       "</table>\n"
      ],
      "text/latex": [
       "\\begin{tabular}{r|ll}\n",
       " Unit.A & Unit.B\\\\\n",
       "\\hline\n",
       "\t 6.8090 & 6.7703\\\\\n",
       "\t 6.4376 & 7.5093\\\\\n",
       "\t 6.9157 & 6.7300\\\\\n",
       "\t 7.3012 & 6.7878\\\\\n",
       "\t 7.4488 & 7.1522\\\\\n",
       "\t 7.3871 & 6.8110\\\\\n",
       "\\end{tabular}\n"
      ],
      "text/markdown": [
       "\n",
       "| Unit.A | Unit.B |\n",
       "|---|---|\n",
       "| 6.8090 | 6.7703 |\n",
       "| 6.4376 | 7.5093 |\n",
       "| 6.9157 | 6.7300 |\n",
       "| 7.3012 | 6.7878 |\n",
       "| 7.4488 | 7.1522 |\n",
       "| 7.3871 | 6.8110 |\n",
       "\n"
      ],
      "text/plain": [
       "  Unit.A Unit.B\n",
       "1 6.8090 6.7703\n",
       "2 6.4376 7.5093\n",
       "3 6.9157 6.7300\n",
       "4 7.3012 6.7878\n",
       "5 7.4488 7.1522\n",
       "6 7.3871 6.8110"
      ]
     },
     "metadata": {},
     "output_type": "display_data"
    }
   ],
   "source": [
    "head(cutlet)"
   ]
  },
  {
   "cell_type": "code",
   "execution_count": 3,
   "metadata": {},
   "outputs": [
    {
     "data": {
      "text/plain": [
       "\n",
       "\tShapiro-Wilk normality test\n",
       "\n",
       "data:  cutlet$Unit.A\n",
       "W = 0.96495, p-value = 0.32\n"
      ]
     },
     "metadata": {},
     "output_type": "display_data"
    }
   ],
   "source": [
    "shapiro.test(cutlet$Unit.A)"
   ]
  },
  {
   "cell_type": "code",
   "execution_count": 4,
   "metadata": {},
   "outputs": [
    {
     "data": {
      "text/plain": [
       "\n",
       "\tShapiro-Wilk normality test\n",
       "\n",
       "data:  cutlet$Unit.B\n",
       "W = 0.97273, p-value = 0.5225\n"
      ]
     },
     "metadata": {},
     "output_type": "display_data"
    }
   ],
   "source": [
    "shapiro.test(cutlet$Unit.B)"
   ]
  },
  {
   "cell_type": "code",
   "execution_count": 5,
   "metadata": {},
   "outputs": [
    {
     "data": {
      "text/plain": [
       "\n",
       "\tF test to compare two variances\n",
       "\n",
       "data:  cutlet$Unit.A and cutlet$Unit.B\n",
       "F = 0.70536, num df = 34, denom df = 34, p-value = 0.3136\n",
       "alternative hypothesis: true ratio of variances is not equal to 1\n",
       "95 percent confidence interval:\n",
       " 0.3560436 1.3974120\n",
       "sample estimates:\n",
       "ratio of variances \n",
       "         0.7053649 \n"
      ]
     },
     "metadata": {},
     "output_type": "display_data"
    }
   ],
   "source": [
    "var.test(cutlet$Unit.A,cutlet$Unit.B)"
   ]
  },
  {
   "cell_type": "code",
   "execution_count": 6,
   "metadata": {},
   "outputs": [
    {
     "data": {
      "text/plain": [
       "\n",
       "\tWelch Two Sample t-test\n",
       "\n",
       "data:  cutlet$Unit.A and cutlet$Unit.B\n",
       "t = 0.72287, df = 66.029, p-value = 0.4723\n",
       "alternative hypothesis: true difference in means is not equal to 0\n",
       "95 percent confidence interval:\n",
       " -0.09654633  0.20613490\n",
       "sample estimates:\n",
       "mean of x mean of y \n",
       " 7.019091  6.964297 \n"
      ]
     },
     "metadata": {},
     "output_type": "display_data"
    }
   ],
   "source": [
    "t.test(cutlet$Unit.A,cutlet$Unit.B,alternative = \"two.sided\",signif=0.05)"
   ]
  },
  {
   "cell_type": "code",
   "execution_count": 7,
   "metadata": {},
   "outputs": [
    {
     "data": {
      "text/plain": [
       "\n",
       "\tTwo Sample t-test\n",
       "\n",
       "data:  cutlet$Unit.A and cutlet$Unit.B\n",
       "t = 0.72287, df = 68, p-value = 0.7639\n",
       "alternative hypothesis: true difference in means is less than 0\n",
       "95 percent confidence interval:\n",
       "      -Inf 0.1811982\n",
       "sample estimates:\n",
       "mean of x mean of y \n",
       " 7.019091  6.964297 \n"
      ]
     },
     "metadata": {},
     "output_type": "display_data"
    }
   ],
   "source": [
    "t.test(cutlet$Unit.A,cutlet$Unit.B,alternative = \"less\",var.equal = T,signif=0.05)"
   ]
  },
  {
   "cell_type": "code",
   "execution_count": 8,
   "metadata": {},
   "outputs": [
    {
     "data": {
      "text/plain": [
       "\n",
       "\tTwo Sample t-test\n",
       "\n",
       "data:  cutlet$Unit.A and cutlet$Unit.B\n",
       "t = 0.72287, df = 68, p-value = 0.2361\n",
       "alternative hypothesis: true difference in means is greater than 0\n",
       "95 percent confidence interval:\n",
       " -0.0716096        Inf\n",
       "sample estimates:\n",
       "mean of x mean of y \n",
       " 7.019091  6.964297 \n"
      ]
     },
     "metadata": {},
     "output_type": "display_data"
    }
   ],
   "source": [
    "t.test(cutlet$Unit.A,cutlet$Unit.B,alternative = \"greater\",var.equal = T,signif=0.05)"
   ]
  },
  {
   "cell_type": "code",
   "execution_count": null,
   "metadata": {},
   "outputs": [],
   "source": []
  }
 ],
 "metadata": {
  "kernelspec": {
   "display_name": "R",
   "language": "R",
   "name": "ir"
  },
  "language_info": {
   "codemirror_mode": "r",
   "file_extension": ".r",
   "mimetype": "text/x-r-source",
   "name": "R",
   "pygments_lexer": "r",
   "version": "3.6.1"
  }
 },
 "nbformat": 4,
 "nbformat_minor": 4
}
